{
 "cells": [
  {
   "cell_type": "markdown",
   "metadata": {},
   "source": [
    "### Import Libraries"
   ]
  },
  {
   "cell_type": "code",
   "execution_count": 2,
   "metadata": {
    "execution": {
     "iopub.execute_input": "2022-08-16T13:05:43.974460Z",
     "iopub.status.busy": "2022-08-16T13:05:43.973831Z",
     "iopub.status.idle": "2022-08-16T13:05:43.990835Z",
     "shell.execute_reply": "2022-08-16T13:05:43.989933Z",
     "shell.execute_reply.started": "2022-08-16T13:05:43.974424Z"
    }
   },
   "outputs": [],
   "source": [
    "import numpy as np # linear algebra\n",
    "import pandas as pd # data processing, CSV file I/O (e.g. pd.read_csv)\n",
    "\n",
    "import tensorflow as tf\n",
    "from tensorflow.keras.preprocessing import text, sequence\n",
    "from tensorflow.keras.models import Sequential\n",
    "from tensorflow.keras.layers import Dense, Dropout, Activation\n",
    "from tensorflow.keras.layers import Embedding\n",
    "from tensorflow.keras.layers import Conv1D, GlobalMaxPooling1D, MaxPooling1D\n",
    "from sklearn.model_selection import train_test_split\n",
    "from wordcloud import WordCloud, STOPWORDS\n",
    "import matplotlib.pyplot as plt\n",
    "import seaborn as sns\n",
    "\n",
    "import warnings\n",
    "warnings.filterwarnings(\"ignore\")\n"
   ]
  },
  {
   "cell_type": "markdown",
   "metadata": {},
   "source": [
    "### Loading Data"
   ]
  },
  {
   "cell_type": "code",
   "execution_count": 4,
   "metadata": {
    "execution": {
     "iopub.execute_input": "2022-08-16T13:05:44.085537Z",
     "iopub.status.busy": "2022-08-16T13:05:44.085294Z",
     "iopub.status.idle": "2022-08-16T13:05:45.429478Z",
     "shell.execute_reply": "2022-08-16T13:05:45.428722Z",
     "shell.execute_reply.started": "2022-08-16T13:05:44.085507Z"
    }
   },
   "outputs": [
    {
     "data": {
      "text/html": [
       "<div>\n",
       "<style scoped>\n",
       "    .dataframe tbody tr th:only-of-type {\n",
       "        vertical-align: middle;\n",
       "    }\n",
       "\n",
       "    .dataframe tbody tr th {\n",
       "        vertical-align: top;\n",
       "    }\n",
       "\n",
       "    .dataframe thead th {\n",
       "        text-align: right;\n",
       "    }\n",
       "</style>\n",
       "<table border=\"1\" class=\"dataframe\">\n",
       "  <thead>\n",
       "    <tr style=\"text-align: right;\">\n",
       "      <th></th>\n",
       "      <th>id</th>\n",
       "      <th>comment_text</th>\n",
       "      <th>toxic</th>\n",
       "      <th>severe_toxic</th>\n",
       "      <th>obscene</th>\n",
       "      <th>threat</th>\n",
       "      <th>insult</th>\n",
       "      <th>identity_hate</th>\n",
       "    </tr>\n",
       "  </thead>\n",
       "  <tbody>\n",
       "    <tr>\n",
       "      <th>12345</th>\n",
       "      <td>20bc45f5014c1eca</td>\n",
       "      <td>\"\\n\\nYour latest edit has again had to be remo...</td>\n",
       "      <td>0</td>\n",
       "      <td>0</td>\n",
       "      <td>0</td>\n",
       "      <td>0</td>\n",
       "      <td>0</td>\n",
       "      <td>0</td>\n",
       "    </tr>\n",
       "    <tr>\n",
       "      <th>55587</th>\n",
       "      <td>948580166b8b8745</td>\n",
       "      <td>\"\\n\\nWorks for me. BaStun not BaTsun \"</td>\n",
       "      <td>0</td>\n",
       "      <td>0</td>\n",
       "      <td>0</td>\n",
       "      <td>0</td>\n",
       "      <td>0</td>\n",
       "      <td>0</td>\n",
       "    </tr>\n",
       "    <tr>\n",
       "      <th>16877</th>\n",
       "      <td>2c8519885db5c0bb</td>\n",
       "      <td>List of newspapers in India by readership\\n\\nT...</td>\n",
       "      <td>0</td>\n",
       "      <td>0</td>\n",
       "      <td>0</td>\n",
       "      <td>0</td>\n",
       "      <td>0</td>\n",
       "      <td>0</td>\n",
       "    </tr>\n",
       "    <tr>\n",
       "      <th>140039</th>\n",
       "      <td>ed64d530a34aa973</td>\n",
       "      <td>Happy New Years\\nCheers )</td>\n",
       "      <td>0</td>\n",
       "      <td>0</td>\n",
       "      <td>0</td>\n",
       "      <td>0</td>\n",
       "      <td>0</td>\n",
       "      <td>0</td>\n",
       "    </tr>\n",
       "    <tr>\n",
       "      <th>125777</th>\n",
       "      <td>a0dd897eafbada2c</td>\n",
       "      <td>Photos \\nSouthwestern’s official website has m...</td>\n",
       "      <td>0</td>\n",
       "      <td>0</td>\n",
       "      <td>0</td>\n",
       "      <td>0</td>\n",
       "      <td>0</td>\n",
       "      <td>0</td>\n",
       "    </tr>\n",
       "    <tr>\n",
       "      <th>159512</th>\n",
       "      <td>ff2f5695bb9aa845</td>\n",
       "      <td>How's this? It's a lot shorter, but it's more ...</td>\n",
       "      <td>0</td>\n",
       "      <td>0</td>\n",
       "      <td>0</td>\n",
       "      <td>0</td>\n",
       "      <td>0</td>\n",
       "      <td>0</td>\n",
       "    </tr>\n",
       "    <tr>\n",
       "      <th>121612</th>\n",
       "      <td>8aa46e67645e4b7b</td>\n",
       "      <td>Why did you remove skinwalker instead of movin...</td>\n",
       "      <td>0</td>\n",
       "      <td>0</td>\n",
       "      <td>0</td>\n",
       "      <td>0</td>\n",
       "      <td>0</td>\n",
       "      <td>0</td>\n",
       "    </tr>\n",
       "    <tr>\n",
       "      <th>7588</th>\n",
       "      <td>142d9e745d03c9ef</td>\n",
       "      <td>\"I repeat, the text was about a minority schoo...</td>\n",
       "      <td>0</td>\n",
       "      <td>0</td>\n",
       "      <td>0</td>\n",
       "      <td>0</td>\n",
       "      <td>0</td>\n",
       "      <td>0</td>\n",
       "    </tr>\n",
       "    <tr>\n",
       "      <th>9463</th>\n",
       "      <td>191a1c6bd40ad470</td>\n",
       "      <td>bay pigs article \\n\\nhi i noticed that you wer...</td>\n",
       "      <td>1</td>\n",
       "      <td>0</td>\n",
       "      <td>1</td>\n",
       "      <td>0</td>\n",
       "      <td>0</td>\n",
       "      <td>0</td>\n",
       "    </tr>\n",
       "    <tr>\n",
       "      <th>103236</th>\n",
       "      <td>287b2d375ed7188a</td>\n",
       "      <td>MusikAnimal is a liar, a disinformant and plag...</td>\n",
       "      <td>0</td>\n",
       "      <td>0</td>\n",
       "      <td>0</td>\n",
       "      <td>0</td>\n",
       "      <td>0</td>\n",
       "      <td>0</td>\n",
       "    </tr>\n",
       "  </tbody>\n",
       "</table>\n",
       "</div>"
      ],
      "text/plain": [
       "                      id                                       comment_text  \\\n",
       "12345   20bc45f5014c1eca  \"\\n\\nYour latest edit has again had to be remo...   \n",
       "55587   948580166b8b8745             \"\\n\\nWorks for me. BaStun not BaTsun \"   \n",
       "16877   2c8519885db5c0bb  List of newspapers in India by readership\\n\\nT...   \n",
       "140039  ed64d530a34aa973                          Happy New Years\\nCheers )   \n",
       "125777  a0dd897eafbada2c  Photos \\nSouthwestern’s official website has m...   \n",
       "159512  ff2f5695bb9aa845  How's this? It's a lot shorter, but it's more ...   \n",
       "121612  8aa46e67645e4b7b  Why did you remove skinwalker instead of movin...   \n",
       "7588    142d9e745d03c9ef  \"I repeat, the text was about a minority schoo...   \n",
       "9463    191a1c6bd40ad470  bay pigs article \\n\\nhi i noticed that you wer...   \n",
       "103236  287b2d375ed7188a  MusikAnimal is a liar, a disinformant and plag...   \n",
       "\n",
       "        toxic  severe_toxic  obscene  threat  insult  identity_hate  \n",
       "12345       0             0        0       0       0              0  \n",
       "55587       0             0        0       0       0              0  \n",
       "16877       0             0        0       0       0              0  \n",
       "140039      0             0        0       0       0              0  \n",
       "125777      0             0        0       0       0              0  \n",
       "159512      0             0        0       0       0              0  \n",
       "121612      0             0        0       0       0              0  \n",
       "7588        0             0        0       0       0              0  \n",
       "9463        1             0        1       0       0              0  \n",
       "103236      0             0        0       0       0              0  "
      ]
     },
     "execution_count": 4,
     "metadata": {},
     "output_type": "execute_result"
    }
   ],
   "source": [
    "train_df = pd.read_csv('train.csv.zip').fillna(' ')\n",
    "\n",
    "# Here is a sample of the data\n",
    "train_df.sample(10, random_state = 1234)"
   ]
  },
  {
   "cell_type": "code",
   "execution_count": 5,
   "metadata": {
    "execution": {
     "iopub.execute_input": "2022-08-16T13:05:45.433267Z",
     "iopub.status.busy": "2022-08-16T13:05:45.432637Z",
     "iopub.status.idle": "2022-08-16T13:05:45.451189Z",
     "shell.execute_reply": "2022-08-16T13:05:45.450164Z",
     "shell.execute_reply.started": "2022-08-16T13:05:45.433231Z"
    }
   },
   "outputs": [
    {
     "name": "stdout",
     "output_type": "stream",
     "text": [
      "[\"Explanation\\nWhy the edits made under my username Hardcore Metallica Fan were reverted? They weren't vandalisms, just closure on some GAs after I voted at New York Dolls FAC. And please don't remove the template from the talk page since I'm retired now.89.205.38.27\"\n",
      " \"D'aww! He matches this background colour I'm seemingly stuck with. Thanks.  (talk) 21:51, January 11, 2016 (UTC)\"\n",
      " \"Hey man, I'm really not trying to edit war. It's just that this guy is constantly removing relevant information and talking to me through edits instead of my talk page. He seems to care more about the formatting than the actual info.\"\n",
      " ...\n",
      " 'Spitzer \\n\\nUmm, theres no actual article for prostitution ring.  - Crunch Captain.'\n",
      " 'And it looks like it was actually you who put on the speedy to have the first version deleted now that I look at it.'\n",
      " '\"\\nAnd ... I really don\\'t think you understand.  I came here and my idea was bad right away.  What kind of community goes \"\"you have bad ideas\"\" go away, instead of helping rewrite them.   \"']\n"
     ]
    }
   ],
   "source": [
    "# Show the comments\n",
    "x = train_df['comment_text'].values \n",
    "print(x)"
   ]
  },
  {
   "cell_type": "code",
   "execution_count": 6,
   "metadata": {
    "execution": {
     "iopub.execute_input": "2022-08-16T13:05:45.454637Z",
     "iopub.status.busy": "2022-08-16T13:05:45.454207Z",
     "iopub.status.idle": "2022-08-16T13:05:45.474108Z",
     "shell.execute_reply": "2022-08-16T13:05:45.473304Z",
     "shell.execute_reply.started": "2022-08-16T13:05:45.454608Z"
    }
   },
   "outputs": [
    {
     "data": {
      "text/html": [
       "<div>\n",
       "<style scoped>\n",
       "    .dataframe tbody tr th:only-of-type {\n",
       "        vertical-align: middle;\n",
       "    }\n",
       "\n",
       "    .dataframe tbody tr th {\n",
       "        vertical-align: top;\n",
       "    }\n",
       "\n",
       "    .dataframe thead th {\n",
       "        text-align: right;\n",
       "    }\n",
       "</style>\n",
       "<table border=\"1\" class=\"dataframe\">\n",
       "  <thead>\n",
       "    <tr style=\"text-align: right;\">\n",
       "      <th></th>\n",
       "      <th>id</th>\n",
       "      <th>comment_text</th>\n",
       "      <th>toxic</th>\n",
       "      <th>severe_toxic</th>\n",
       "      <th>obscene</th>\n",
       "      <th>threat</th>\n",
       "      <th>insult</th>\n",
       "      <th>identity_hate</th>\n",
       "    </tr>\n",
       "  </thead>\n",
       "  <tbody>\n",
       "    <tr>\n",
       "      <th>86296</th>\n",
       "      <td>e6cfe09510b15145</td>\n",
       "      <td>and  are Angelique KKKarrington-hating Jews!]]</td>\n",
       "      <td>1</td>\n",
       "      <td>0</td>\n",
       "      <td>0</td>\n",
       "      <td>0</td>\n",
       "      <td>0</td>\n",
       "      <td>0</td>\n",
       "    </tr>\n",
       "    <tr>\n",
       "      <th>8619</th>\n",
       "      <td>16e110672dde00d9</td>\n",
       "      <td>How civil is this - who the fuck do you think ...</td>\n",
       "      <td>1</td>\n",
       "      <td>1</td>\n",
       "      <td>1</td>\n",
       "      <td>0</td>\n",
       "      <td>1</td>\n",
       "      <td>0</td>\n",
       "    </tr>\n",
       "    <tr>\n",
       "      <th>123695</th>\n",
       "      <td>958e4d243a743156</td>\n",
       "      <td>\"\\n\\n idiot \\n\\n  i do not understand what use...</td>\n",
       "      <td>1</td>\n",
       "      <td>0</td>\n",
       "      <td>1</td>\n",
       "      <td>0</td>\n",
       "      <td>1</td>\n",
       "      <td>0</td>\n",
       "    </tr>\n",
       "    <tr>\n",
       "      <th>120058</th>\n",
       "      <td>820861d281284864</td>\n",
       "      <td>\"::I'd hoped for a better, more neutral respon...</td>\n",
       "      <td>1</td>\n",
       "      <td>0</td>\n",
       "      <td>0</td>\n",
       "      <td>0</td>\n",
       "      <td>0</td>\n",
       "      <td>0</td>\n",
       "    </tr>\n",
       "    <tr>\n",
       "      <th>157801</th>\n",
       "      <td>e381fcf1759b1d0f</td>\n",
       "      <td>\"\\n\\nComments from the west are irrelevant, we...</td>\n",
       "      <td>1</td>\n",
       "      <td>0</td>\n",
       "      <td>0</td>\n",
       "      <td>0</td>\n",
       "      <td>0</td>\n",
       "      <td>0</td>\n",
       "    </tr>\n",
       "    <tr>\n",
       "      <th>132607</th>\n",
       "      <td>c57242ec5816d21c</td>\n",
       "      <td>\"\\n\\nYOUR MOM IS SO FAT, SHE GETS CASHBACK WHE...</td>\n",
       "      <td>1</td>\n",
       "      <td>1</td>\n",
       "      <td>1</td>\n",
       "      <td>0</td>\n",
       "      <td>1</td>\n",
       "      <td>1</td>\n",
       "    </tr>\n",
       "    <tr>\n",
       "      <th>73811</th>\n",
       "      <td>c580d59f2a359dcc</td>\n",
       "      <td>[User talk:JesseRafe|talk]], How dare you call...</td>\n",
       "      <td>1</td>\n",
       "      <td>0</td>\n",
       "      <td>0</td>\n",
       "      <td>0</td>\n",
       "      <td>1</td>\n",
       "      <td>0</td>\n",
       "    </tr>\n",
       "    <tr>\n",
       "      <th>17995</th>\n",
       "      <td>2f85b9f5219235df</td>\n",
       "      <td>to be honest with you, if you don't tell me a ...</td>\n",
       "      <td>1</td>\n",
       "      <td>0</td>\n",
       "      <td>0</td>\n",
       "      <td>0</td>\n",
       "      <td>0</td>\n",
       "      <td>0</td>\n",
       "    </tr>\n",
       "    <tr>\n",
       "      <th>45799</th>\n",
       "      <td>7a675e86c2e62890</td>\n",
       "      <td>P.S. I need some penis, cat tongue is getting old</td>\n",
       "      <td>1</td>\n",
       "      <td>0</td>\n",
       "      <td>1</td>\n",
       "      <td>0</td>\n",
       "      <td>0</td>\n",
       "      <td>0</td>\n",
       "    </tr>\n",
       "    <tr>\n",
       "      <th>148162</th>\n",
       "      <td>47cf25a86ba2dc49</td>\n",
       "      <td>FUCK ALL MODERNISTS \\n\\nI WISH THE ROMAN EMPIR...</td>\n",
       "      <td>1</td>\n",
       "      <td>0</td>\n",
       "      <td>1</td>\n",
       "      <td>0</td>\n",
       "      <td>0</td>\n",
       "      <td>0</td>\n",
       "    </tr>\n",
       "  </tbody>\n",
       "</table>\n",
       "</div>"
      ],
      "text/plain": [
       "                      id                                       comment_text  \\\n",
       "86296   e6cfe09510b15145     and  are Angelique KKKarrington-hating Jews!]]   \n",
       "8619    16e110672dde00d9  How civil is this - who the fuck do you think ...   \n",
       "123695  958e4d243a743156  \"\\n\\n idiot \\n\\n  i do not understand what use...   \n",
       "120058  820861d281284864  \"::I'd hoped for a better, more neutral respon...   \n",
       "157801  e381fcf1759b1d0f  \"\\n\\nComments from the west are irrelevant, we...   \n",
       "132607  c57242ec5816d21c  \"\\n\\nYOUR MOM IS SO FAT, SHE GETS CASHBACK WHE...   \n",
       "73811   c580d59f2a359dcc  [User talk:JesseRafe|talk]], How dare you call...   \n",
       "17995   2f85b9f5219235df  to be honest with you, if you don't tell me a ...   \n",
       "45799   7a675e86c2e62890  P.S. I need some penis, cat tongue is getting old   \n",
       "148162  47cf25a86ba2dc49  FUCK ALL MODERNISTS \\n\\nI WISH THE ROMAN EMPIR...   \n",
       "\n",
       "        toxic  severe_toxic  obscene  threat  insult  identity_hate  \n",
       "86296       1             0        0       0       0              0  \n",
       "8619        1             1        1       0       1              0  \n",
       "123695      1             0        1       0       1              0  \n",
       "120058      1             0        0       0       0              0  \n",
       "157801      1             0        0       0       0              0  \n",
       "132607      1             1        1       0       1              1  \n",
       "73811       1             0        0       0       1              0  \n",
       "17995       1             0        0       0       0              0  \n",
       "45799       1             0        1       0       0              0  \n",
       "148162      1             0        1       0       0              0  "
      ]
     },
     "execution_count": 6,
     "metadata": {},
     "output_type": "execute_result"
    }
   ],
   "source": [
    "# View 10 random toxic comments\n",
    "train_df.loc[train_df['toxic'] == 1].sample(10, random_state=1234)"
   ]
  },
  {
   "cell_type": "code",
   "execution_count": 8,
   "metadata": {
    "execution": {
     "iopub.execute_input": "2022-08-16T13:05:46.648033Z",
     "iopub.status.busy": "2022-08-16T13:05:46.645525Z",
     "iopub.status.idle": "2022-08-16T13:05:46.653526Z",
     "shell.execute_reply": "2022-08-16T13:05:46.652574Z",
     "shell.execute_reply.started": "2022-08-16T13:05:46.647994Z"
    }
   },
   "outputs": [
    {
     "name": "stdout",
     "output_type": "stream",
     "text": [
      "[0 0 0 ... 0 0 0]\n"
     ]
    }
   ],
   "source": [
    "y = train_df['toxic'].values\n",
    "print(y)"
   ]
  },
  {
   "cell_type": "code",
   "execution_count": 9,
   "metadata": {
    "execution": {
     "iopub.execute_input": "2022-08-16T13:05:46.655286Z",
     "iopub.status.busy": "2022-08-16T13:05:46.654923Z",
     "iopub.status.idle": "2022-08-16T13:05:46.880163Z",
     "shell.execute_reply": "2022-08-16T13:05:46.879449Z",
     "shell.execute_reply.started": "2022-08-16T13:05:46.655218Z"
    }
   },
   "outputs": [
    {
     "data": {
      "image/png": "[encoded data removed]",
      "text/plain": [
       "<Figure size 864x576 with 1 Axes>"
      ]
     },
     "metadata": {
      "needs_background": "light"
     },
     "output_type": "display_data"
    }
   ],
   "source": [
    "# Plot frequency of toxic comments (0 = not toxic, 1 = toxic)\n",
    "green = '#52BE80'\n",
    "red = '#EC7063'\n",
    "\n",
    "plt.figure(figsize=(12,8))\n",
    "ax = sns.countplot(train_df['toxic'], palette=[green, red]) \n",
    "ax.set_title('Distribution of toxic comments')\n",
    "ax.set_ylabel('Samples');"
   ]
  },
  {
   "cell_type": "code",
   "execution_count": 10,
   "metadata": {
    "execution": {
     "iopub.execute_input": "2022-08-16T13:05:46.881858Z",
     "iopub.status.busy": "2022-08-16T13:05:46.881620Z",
     "iopub.status.idle": "2022-08-16T13:05:46.893821Z",
     "shell.execute_reply": "2022-08-16T13:05:46.893063Z",
     "shell.execute_reply.started": "2022-08-16T13:05:46.881823Z"
    }
   },
   "outputs": [
    {
     "data": {
      "text/plain": [
       "0    144277\n",
       "1     15294\n",
       "Name: toxic, dtype: int64"
      ]
     },
     "execution_count": 10,
     "metadata": {},
     "output_type": "execute_result"
    }
   ],
   "source": [
    "# Counts of comments (0 = not toxic, 1 = toxic)\n",
    "train_df['toxic'].value_counts()"
   ]
  },
  {
   "cell_type": "code",
   "execution_count": 11,
   "metadata": {
    "execution": {
     "iopub.execute_input": "2022-08-16T13:05:46.895287Z",
     "iopub.status.busy": "2022-08-16T13:05:46.895096Z",
     "iopub.status.idle": "2022-08-16T13:05:47.318913Z",
     "shell.execute_reply": "2022-08-16T13:05:47.318220Z",
     "shell.execute_reply.started": "2022-08-16T13:05:46.895263Z"
    }
   },
   "outputs": [
    {
     "data": {
      "image/png": "[encoded data removed]",
      "text/plain": [
       "<Figure size 864x576 with 2 Axes>"
      ]
     },
     "metadata": {
      "needs_background": "light"
     },
     "output_type": "display_data"
    }
   ],
   "source": [
    "# Number of carachters in comments\n",
    "fig,(ax1,ax2)=plt.subplots(1,2,figsize=(12,8))\n",
    "comment_len=train_df[train_df['toxic']==1]['comment_text'].str.len()\n",
    "ax1.hist(comment_len,color=red)\n",
    "ax1.set_title('Toxic comments')\n",
    "\n",
    "comment_len=train_df[train_df['toxic']==0]['comment_text'].str.len()\n",
    "ax2.hist(comment_len,color=green)\n",
    "ax2.set_title('Not toxic comments')\n",
    "fig.suptitle('Characters in comments')\n",
    "plt.show()"
   ]
  },
  {
   "cell_type": "markdown",
   "metadata": {},
   "source": [
    "The distribution of both seems to be almost same. Until 500 characters in a comment are the most common among both."
   ]
  },
  {
   "cell_type": "code",
   "execution_count": 12,
   "metadata": {
    "execution": {
     "iopub.execute_input": "2022-08-16T13:05:47.320848Z",
     "iopub.status.busy": "2022-08-16T13:05:47.320314Z",
     "iopub.status.idle": "2022-08-16T13:05:49.587593Z",
     "shell.execute_reply": "2022-08-16T13:05:49.586912Z",
     "shell.execute_reply.started": "2022-08-16T13:05:47.320803Z"
    }
   },
   "outputs": [
    {
     "data": {
      "image/png": "[encoded data removed]",
      "text/plain": [
       "<Figure size 864x576 with 2 Axes>"
      ]
     },
     "metadata": {
      "needs_background": "light"
     },
     "output_type": "display_data"
    }
   ],
   "source": [
    "# Number of words in a comment\n",
    "fig,(ax1,ax2)=plt.subplots(1,2,figsize = (12,8))\n",
    "comment_len=train_df[train_df['toxic']==1]['comment_text'].str.split().map(lambda x: len(x))\n",
    "ax1.hist(comment_len,color = red)\n",
    "ax1.set_title('Toxic Comments')\n",
    "\n",
    "comment_len=train_df[train_df['toxic']==0]['comment_text'].str.split().map(lambda x: len(x))\n",
    "ax2.hist(comment_len,color = green)\n",
    "ax2.set_title('Not toxic comments')\n",
    "fig.suptitle('Words in a comment')\n",
    "plt.show()"
   ]
  },
  {
   "cell_type": "markdown",
   "metadata": {},
   "source": [
    "### Tokenization and Text Data Preparation "
   ]
  },
  {
   "cell_type": "code",
   "execution_count": 13,
   "metadata": {
    "execution": {
     "iopub.execute_input": "2022-08-16T13:05:49.590638Z",
     "iopub.status.busy": "2022-08-16T13:05:49.590322Z",
     "iopub.status.idle": "2022-08-16T13:06:09.768555Z",
     "shell.execute_reply": "2022-08-16T13:06:09.767756Z",
     "shell.execute_reply.started": "2022-08-16T13:05:49.590608Z"
    }
   },
   "outputs": [],
   "source": [
    "# Define some hyperparameters for performing tokenization\n",
    "max_features = 20000 \n",
    "max_text_length = 100\n",
    "\n",
    "x_tokenizer = text.Tokenizer(max_features)\n",
    "x_tokenizer.fit_on_texts(list(x))\n",
    "x_tokenized = x_tokenizer.texts_to_sequences(x)\n",
    "x_train_val = sequence.pad_sequences(x_tokenized, maxlen = max_text_length)"
   ]
  },
  {
   "cell_type": "code",
   "execution_count": 15,
   "metadata": {
    "execution": {
     "iopub.execute_input": "2022-08-16T13:06:17.777790Z",
     "iopub.status.busy": "2022-08-16T13:06:17.777541Z",
     "iopub.status.idle": "2022-08-16T13:06:17.818956Z",
     "shell.execute_reply": "2022-08-16T13:06:17.818063Z",
     "shell.execute_reply.started": "2022-08-16T13:06:17.777756Z"
    }
   },
   "outputs": [],
   "source": [
    "embedding_dim = 100\n",
    "embeddings_index = dict()\n",
    "embedding_matrix = np.zeros((max_features, embedding_dim))\n",
    "for word, index in x_tokenizer.word_index.items():\n",
    "    if index > max_features -1:\n",
    "        break\n",
    "    else:\n",
    "        embedding_vector = embeddings_index.get(word)\n",
    "        if embedding_vector is not None:\n",
    "            embedding_matrix[index] = embedding_vector"
   ]
  },
  {
   "cell_type": "code",
   "execution_count": 16,
   "metadata": {
    "execution": {
     "iopub.execute_input": "2022-08-16T13:06:17.820816Z",
     "iopub.status.busy": "2022-08-16T13:06:17.820466Z",
     "iopub.status.idle": "2022-08-16T13:06:17.829638Z",
     "shell.execute_reply": "2022-08-16T13:06:17.828797Z",
     "shell.execute_reply.started": "2022-08-16T13:06:17.820776Z"
    }
   },
   "outputs": [],
   "source": [
    "# Here is what the word embedding for the word 'stop' looks like\n",
    "embeddings_index.get('stop')"
   ]
  },
  {
   "cell_type": "markdown",
   "metadata": {},
   "source": [
    "### Create the Embedding Layer "
   ]
  },
  {
   "cell_type": "code",
   "execution_count": 17,
   "metadata": {
    "execution": {
     "iopub.execute_input": "2022-08-16T13:06:17.831925Z",
     "iopub.status.busy": "2022-08-16T13:06:17.831265Z",
     "iopub.status.idle": "2022-08-16T13:06:17.862291Z",
     "shell.execute_reply": "2022-08-16T13:06:17.861598Z",
     "shell.execute_reply.started": "2022-08-16T13:06:17.831887Z"
    }
   },
   "outputs": [],
   "source": [
    "model = Sequential()\n",
    "model.add(Embedding(max_features, embedding_dim,\n",
    "                    embeddings_initializer=tf.keras.initializers.Constant(\n",
    "                    embedding_matrix), trainable=False))\n",
    "model.add(Dropout(0.2))"
   ]
  },
  {
   "cell_type": "markdown",
   "metadata": {},
   "source": [
    "### Build the Model"
   ]
  },
  {
   "cell_type": "code",
   "execution_count": 18,
   "metadata": {
    "execution": {
     "iopub.execute_input": "2022-08-16T13:06:17.863813Z",
     "iopub.status.busy": "2022-08-16T13:06:17.863576Z",
     "iopub.status.idle": "2022-08-16T13:06:17.867660Z",
     "shell.execute_reply": "2022-08-16T13:06:17.866703Z",
     "shell.execute_reply.started": "2022-08-16T13:06:17.863780Z"
    }
   },
   "outputs": [],
   "source": [
    "# Define parameters\n",
    "filters = 150\n",
    "kernel_size = 3\n",
    "hidden_dims = 150"
   ]
  },
  {
   "cell_type": "code",
   "execution_count": 19,
   "metadata": {
    "execution": {
     "iopub.execute_input": "2022-08-16T13:06:17.869641Z",
     "iopub.status.busy": "2022-08-16T13:06:17.869025Z",
     "iopub.status.idle": "2022-08-16T13:06:17.925218Z",
     "shell.execute_reply": "2022-08-16T13:06:17.924532Z",
     "shell.execute_reply.started": "2022-08-16T13:06:17.869605Z"
    }
   },
   "outputs": [
    {
     "name": "stdout",
     "output_type": "stream",
     "text": [
      "Model: \"sequential\"\n",
      "_________________________________________________________________\n",
      " Layer (type)                Output Shape              Param #   \n",
      "=================================================================\n",
      " embedding (Embedding)       (None, None, 100)         2000000   \n",
      "                                                                 \n",
      " dropout (Dropout)           (None, None, 100)         0         \n",
      "                                                                 \n",
      " conv1d (Conv1D)             (None, None, 150)         45150     \n",
      "                                                                 \n",
      " max_pooling1d (MaxPooling1D  (None, None, 150)        0         \n",
      " )                                                               \n",
      "                                                                 \n",
      " conv1d_1 (Conv1D)           (None, None, 150)         67650     \n",
      "                                                                 \n",
      " global_max_pooling1d (Globa  (None, 150)              0         \n",
      " lMaxPooling1D)                                                  \n",
      "                                                                 \n",
      " dense (Dense)               (None, 150)               22650     \n",
      "                                                                 \n",
      " dropout_1 (Dropout)         (None, 150)               0         \n",
      "                                                                 \n",
      " dense_1 (Dense)             (None, 1)                 151       \n",
      "                                                                 \n",
      "=================================================================\n",
      "Total params: 2,135,601\n",
      "Trainable params: 135,601\n",
      "Non-trainable params: 2,000,000\n",
      "_________________________________________________________________\n"
     ]
    }
   ],
   "source": [
    "model.add(Conv1D(filters, kernel_size, activation = 'relu'))\n",
    "model.add(MaxPooling1D())\n",
    "model.add(Conv1D(filters, kernel_size, activation = 'relu'))\n",
    "model.add(GlobalMaxPooling1D())\n",
    "model.add(Dense(hidden_dims, activation = 'relu'))\n",
    "model.add(Dropout(0.2))\n",
    "\n",
    "model.add(Dense(1, activation = 'sigmoid'))\n",
    "\n",
    "# Display the model structure\n",
    "model.summary()"
   ]
  },
  {
   "cell_type": "code",
   "execution_count": 20,
   "metadata": {
    "execution": {
     "iopub.execute_input": "2022-08-16T13:06:17.928028Z",
     "iopub.status.busy": "2022-08-16T13:06:17.926317Z",
     "iopub.status.idle": "2022-08-16T13:06:17.936636Z",
     "shell.execute_reply": "2022-08-16T13:06:17.935841Z",
     "shell.execute_reply.started": "2022-08-16T13:06:17.927988Z"
    }
   },
   "outputs": [],
   "source": [
    "model.compile(loss='binary_crossentropy', optimizer='adam', metrics=['accuracy'])"
   ]
  },
  {
   "cell_type": "markdown",
   "metadata": {},
   "source": [
    "### Training Model"
   ]
  },
  {
   "cell_type": "code",
   "execution_count": 21,
   "metadata": {
    "execution": {
     "iopub.execute_input": "2022-08-16T13:06:17.938284Z",
     "iopub.status.busy": "2022-08-16T13:06:17.938012Z",
     "iopub.status.idle": "2022-08-16T13:06:17.977178Z",
     "shell.execute_reply": "2022-08-16T13:06:17.976401Z",
     "shell.execute_reply.started": "2022-08-16T13:06:17.938240Z"
    }
   },
   "outputs": [],
   "source": [
    "# Split the data\n",
    "x_train, x_val, y_train, y_val = train_test_split(x_train_val, y, test_size = 0.30, random_state = 1235)"
   ]
  },
  {
   "cell_type": "code",
   "execution_count": 22,
   "metadata": {
    "execution": {
     "iopub.execute_input": "2022-08-16T13:11:56.257393Z",
     "iopub.status.busy": "2022-08-16T13:11:56.256799Z",
     "iopub.status.idle": "2022-08-16T13:13:16.622643Z",
     "shell.execute_reply": "2022-08-16T13:13:16.621853Z",
     "shell.execute_reply.started": "2022-08-16T13:11:56.257357Z"
    }
   },
   "outputs": [
    {
     "name": "stdout",
     "output_type": "stream",
     "text": [
      "CPU times: total: 0 ns\n",
      "Wall time: 0 ns\n",
      "Epoch 1/10\n",
      "1746/1746 [==============================] - 53s 30ms/step - loss: 0.4798 - accuracy: 0.9042 - val_loss: 0.3633 - val_accuracy: 0.9040\n",
      "Epoch 2/10\n",
      "1746/1746 [==============================] - 51s 29ms/step - loss: 0.3331 - accuracy: 0.9042 - val_loss: 0.3190 - val_accuracy: 0.9040\n",
      "Epoch 3/10\n",
      "1746/1746 [==============================] - 56s 32ms/step - loss: 0.3165 - accuracy: 0.9042 - val_loss: 0.3161 - val_accuracy: 0.9040\n",
      "Epoch 4/10\n",
      "1746/1746 [==============================] - 52s 30ms/step - loss: 0.3158 - accuracy: 0.9042 - val_loss: 0.3161 - val_accuracy: 0.9040\n",
      "Epoch 5/10\n",
      "1746/1746 [==============================] - 52s 29ms/step - loss: 0.3158 - accuracy: 0.9042 - val_loss: 0.3161 - val_accuracy: 0.9040\n",
      "Epoch 6/10\n",
      "1746/1746 [==============================] - 56s 32ms/step - loss: 0.3158 - accuracy: 0.9042 - val_loss: 0.3161 - val_accuracy: 0.9040\n",
      "Epoch 7/10\n",
      "1746/1746 [==============================] - 54s 31ms/step - loss: 0.3157 - accuracy: 0.9042 - val_loss: 0.3161 - val_accuracy: 0.9040\n",
      "Epoch 8/10\n",
      "1746/1746 [==============================] - 58s 33ms/step - loss: 0.3158 - accuracy: 0.9042 - val_loss: 0.3161 - val_accuracy: 0.9040\n",
      "Epoch 9/10\n",
      "1746/1746 [==============================] - 52s 30ms/step - loss: 0.3157 - accuracy: 0.9042 - val_loss: 0.3161 - val_accuracy: 0.9040\n",
      "Epoch 10/10\n",
      "1746/1746 [==============================] - 52s 30ms/step - loss: 0.3158 - accuracy: 0.9042 - val_loss: 0.3161 - val_accuracy: 0.9040\n"
     ]
    },
    {
     "data": {
      "text/plain": [
       "<keras.callbacks.History at 0x2617030b880>"
      ]
     },
     "execution_count": 22,
     "metadata": {},
     "output_type": "execute_result"
    }
   ],
   "source": [
    "# Train the model, iterating on the data in batches of 64 samples\n",
    "%time\n",
    "batch_size = 64\n",
    "epochs = 10\n",
    "\n",
    "model.fit(x_train, y_train, batch_size = batch_size,\n",
    "          epochs = epochs, validation_data=(x_val, y_val))"
   ]
  },
  {
   "cell_type": "markdown",
   "metadata": {},
   "source": [
    "### Evaluation Model"
   ]
  },
  {
   "cell_type": "code",
   "execution_count": 23,
   "metadata": {
    "execution": {
     "iopub.execute_input": "2022-08-16T13:26:21.180546Z",
     "iopub.status.busy": "2022-08-16T13:26:21.179834Z",
     "iopub.status.idle": "2022-08-16T13:26:22.358350Z",
     "shell.execute_reply": "2022-08-16T13:26:22.357561Z",
     "shell.execute_reply.started": "2022-08-16T13:26:21.180511Z"
    }
   },
   "outputs": [],
   "source": [
    "test_df = pd.read_csv('test.csv.zip')\n",
    "\n",
    "x_test = test_df['comment_text'].values"
   ]
  },
  {
   "cell_type": "code",
   "execution_count": 24,
   "metadata": {
    "execution": {
     "iopub.execute_input": "2022-08-16T13:14:01.638722Z",
     "iopub.status.busy": "2022-08-16T13:14:01.638161Z",
     "iopub.status.idle": "2022-08-16T13:14:14.005468Z",
     "shell.execute_reply": "2022-08-16T13:14:14.004737Z",
     "shell.execute_reply.started": "2022-08-16T13:14:01.638685Z"
    }
   },
   "outputs": [
    {
     "name": "stdout",
     "output_type": "stream",
     "text": [
      "2394/2394 [==============================] - 13s 5ms/step\n"
     ]
    }
   ],
   "source": [
    "x_test_tokenized = x_tokenizer.texts_to_sequences(x_test)\n",
    "x_testing = sequence.pad_sequences(x_test_tokenized, maxlen=max_text_length)\n",
    "\n",
    "y_testing = model.predict(x_testing, verbose=1, batch_size=64)"
   ]
  },
  {
   "cell_type": "code",
   "execution_count": 25,
   "metadata": {
    "execution": {
     "iopub.execute_input": "2022-08-16T13:14:28.611381Z",
     "iopub.status.busy": "2022-08-16T13:14:28.610479Z",
     "iopub.status.idle": "2022-08-16T13:14:28.618200Z",
     "shell.execute_reply": "2022-08-16T13:14:28.616910Z",
     "shell.execute_reply.started": "2022-08-16T13:14:28.611341Z"
    }
   },
   "outputs": [
    {
     "data": {
      "text/plain": [
       "(153164, 1)"
      ]
     },
     "execution_count": 25,
     "metadata": {},
     "output_type": "execute_result"
    }
   ],
   "source": [
    "y_testing.shape"
   ]
  },
  {
   "cell_type": "code",
   "execution_count": 26,
   "metadata": {
    "execution": {
     "iopub.execute_input": "2022-08-16T13:14:35.482950Z",
     "iopub.status.busy": "2022-08-16T13:14:35.482661Z",
     "iopub.status.idle": "2022-08-16T13:14:35.682430Z",
     "shell.execute_reply": "2022-08-16T13:14:35.681719Z",
     "shell.execute_reply.started": "2022-08-16T13:14:35.482917Z"
    }
   },
   "outputs": [
    {
     "data": {
      "text/html": [
       "<div>\n",
       "<style scoped>\n",
       "    .dataframe tbody tr th:only-of-type {\n",
       "        vertical-align: middle;\n",
       "    }\n",
       "\n",
       "    .dataframe tbody tr th {\n",
       "        vertical-align: top;\n",
       "    }\n",
       "\n",
       "    .dataframe thead th {\n",
       "        text-align: right;\n",
       "    }\n",
       "</style>\n",
       "<table border=\"1\" class=\"dataframe\">\n",
       "  <thead>\n",
       "    <tr style=\"text-align: right;\">\n",
       "      <th></th>\n",
       "      <th>comment_text</th>\n",
       "      <th>Toxic</th>\n",
       "    </tr>\n",
       "  </thead>\n",
       "  <tbody>\n",
       "    <tr>\n",
       "      <th>0</th>\n",
       "      <td>Yo bitch Ja Rule is more succesful then you'll...</td>\n",
       "      <td>not toxic</td>\n",
       "    </tr>\n",
       "    <tr>\n",
       "      <th>1</th>\n",
       "      <td>== From RfC == \\n\\n The title is fine as it is...</td>\n",
       "      <td>not toxic</td>\n",
       "    </tr>\n",
       "    <tr>\n",
       "      <th>2</th>\n",
       "      <td>\" \\n\\n == Sources == \\n\\n * Zawe Ashton on Lap...</td>\n",
       "      <td>not toxic</td>\n",
       "    </tr>\n",
       "    <tr>\n",
       "      <th>3</th>\n",
       "      <td>:If you have a look back at the source, the in...</td>\n",
       "      <td>not toxic</td>\n",
       "    </tr>\n",
       "    <tr>\n",
       "      <th>4</th>\n",
       "      <td>I don't anonymously edit articles at all.</td>\n",
       "      <td>not toxic</td>\n",
       "    </tr>\n",
       "    <tr>\n",
       "      <th>5</th>\n",
       "      <td>Thank you for understanding. I think very high...</td>\n",
       "      <td>not toxic</td>\n",
       "    </tr>\n",
       "    <tr>\n",
       "      <th>6</th>\n",
       "      <td>Please do not add nonsense to Wikipedia. Such ...</td>\n",
       "      <td>not toxic</td>\n",
       "    </tr>\n",
       "    <tr>\n",
       "      <th>7</th>\n",
       "      <td>:Dear god this site is horrible.</td>\n",
       "      <td>not toxic</td>\n",
       "    </tr>\n",
       "    <tr>\n",
       "      <th>8</th>\n",
       "      <td>\" \\n Only a fool can believe in such numbers. ...</td>\n",
       "      <td>not toxic</td>\n",
       "    </tr>\n",
       "    <tr>\n",
       "      <th>9</th>\n",
       "      <td>== Double Redirects == \\n\\n When fixing double...</td>\n",
       "      <td>not toxic</td>\n",
       "    </tr>\n",
       "  </tbody>\n",
       "</table>\n",
       "</div>"
      ],
      "text/plain": [
       "                                        comment_text      Toxic\n",
       "0  Yo bitch Ja Rule is more succesful then you'll...  not toxic\n",
       "1  == From RfC == \\n\\n The title is fine as it is...  not toxic\n",
       "2  \" \\n\\n == Sources == \\n\\n * Zawe Ashton on Lap...  not toxic\n",
       "3  :If you have a look back at the source, the in...  not toxic\n",
       "4          I don't anonymously edit articles at all.  not toxic\n",
       "5  Thank you for understanding. I think very high...  not toxic\n",
       "6  Please do not add nonsense to Wikipedia. Such ...  not toxic\n",
       "7                   :Dear god this site is horrible.  not toxic\n",
       "8  \" \\n Only a fool can believe in such numbers. ...  not toxic\n",
       "9  == Double Redirects == \\n\\n When fixing double...  not toxic"
      ]
     },
     "execution_count": 26,
     "metadata": {},
     "output_type": "execute_result"
    }
   ],
   "source": [
    "test_df['Toxic'] = ['not toxic' if x < .5 else 'toxic' for x in y_testing]\n",
    "test_df[['comment_text', 'Toxic']].head(10) "
   ]
  }
 ],
 "metadata": {
  "kernelspec": {
   "display_name": "Python 3 (ipykernel)",
   "language": "python",
   "name": "python3"
  },
  "language_info": {
   "codemirror_mode": {
    "name": "ipython",
    "version": 3
   },
   "file_extension": ".py",
   "mimetype": "text/x-python",
   "name": "python",
   "nbconvert_exporter": "python",
   "pygments_lexer": "ipython3",
   "version": "3.10.4"
  }
 },
 "nbformat": 4,
 "nbformat_minor": 4
}
